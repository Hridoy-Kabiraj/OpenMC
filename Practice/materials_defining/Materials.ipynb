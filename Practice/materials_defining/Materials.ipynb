{
 "cells": [
  {
   "cell_type": "code",
   "execution_count": 4,
   "id": "ef8398cb",
   "metadata": {},
   "outputs": [],
   "source": [
    "import openmc \n",
    "openmc.config['cross_sections']=\"/mnt/e/OpenMC_Projects/endfb-viii.0-hdf5/cross_sections.xml\"\n",
    "\n",
    "import os\n",
    "os.environ['OPENMC_CROSS_SECTIONS']=\"/mnt/e/OpenMC_Projects/endfb-viii.0-hdf5/cross_sections.xml\""
   ]
  },
  {
   "cell_type": "code",
   "execution_count": 5,
   "id": "e5cb4c17",
   "metadata": {},
   "outputs": [
    {
     "name": "stderr",
     "output_type": "stream",
     "text": [
      "/home/hridoy/miniconda3/envs/openmc-env/lib/python3.11/site-packages/openmc/mixin.py:70: IDWarning: Another Material instance already exists with id=1.\n",
      "  warn(msg, IDWarning)\n"
     ]
    }
   ],
   "source": [
    "nat_u = openmc.Material(material_id = 1, name = 'natural uranium')\n",
    "nat_u.add_element('U',1.0)\n",
    "nat_u.add_element('O',2.0)\n",
    "nat_u.set_density('g/cc',10.96)\n",
    "nat_u.temperature = 900\n",
    "nat_u.depletable = True "
   ]
  },
  {
   "cell_type": "code",
   "execution_count": 6,
   "id": "39e31fc7",
   "metadata": {},
   "outputs": [
    {
     "data": {
      "text/plain": [
       "Material\n",
       "\tID             =\t1\n",
       "\tName           =\tnatural uranium\n",
       "\tTemperature    =\t900\n",
       "\tDensity        =\t10.96 [g/cc]\n",
       "\tVolume         =\tNone [cm^3]\n",
       "\tDepletable     =\tTrue\n",
       "\tS(a,b) Tables  \n",
       "\tNuclides       \n",
       "\tU234           =\t5.4e-05      [ao]\n",
       "\tU235           =\t0.007204     [ao]\n",
       "\tU238           =\t0.992742     [ao]\n",
       "\tO16            =\t1.9952412    [ao]\n",
       "\tO17            =\t0.000758     [ao]\n",
       "\tO18            =\t0.0040008    [ao]"
      ]
     },
     "execution_count": 6,
     "metadata": {},
     "output_type": "execute_result"
    }
   ],
   "source": [
    "nat_u"
   ]
  },
  {
   "cell_type": "code",
   "execution_count": 7,
   "id": "cee493cc",
   "metadata": {},
   "outputs": [],
   "source": [
    "en_u = openmc.Material(material_id = 2, name = '5% enriched uranium')\n",
    "en_u.add_element('U',1.0,enrichment=5.0)\n",
    "en_u.add_element('O',2.0)\n",
    "en_u.set_density('g/cc',10.96)\n",
    "en_u.temperature = 900\n",
    "en_u.depletable = True "
   ]
  },
  {
   "cell_type": "code",
   "execution_count": 8,
   "id": "870fcc89",
   "metadata": {},
   "outputs": [
    {
     "data": {
      "text/plain": [
       "Material\n",
       "\tID             =\t2\n",
       "\tName           =\t5% enriched uranium\n",
       "\tTemperature    =\t900\n",
       "\tDensity        =\t10.96 [g/cc]\n",
       "\tVolume         =\tNone [cm^3]\n",
       "\tDepletable     =\tTrue\n",
       "\tS(a,b) Tables  \n",
       "\tNuclides       \n",
       "\tU234           =\t0.0004523305496957069 [ao]\n",
       "\tU235           =\t0.05060678291113409 [ao]\n",
       "\tU238           =\t0.9487090831661896 [ao]\n",
       "\tU236           =\t0.00023180337298067612 [ao]\n",
       "\tO16            =\t1.9952412    [ao]\n",
       "\tO17            =\t0.000758     [ao]\n",
       "\tO18            =\t0.0040008    [ao]"
      ]
     },
     "execution_count": 8,
     "metadata": {},
     "output_type": "execute_result"
    }
   ],
   "source": [
    "en_u"
   ]
  },
  {
   "cell_type": "code",
   "execution_count": 9,
   "id": "0cdbb219",
   "metadata": {},
   "outputs": [
    {
     "name": "stderr",
     "output_type": "stream",
     "text": [
      "/home/hridoy/miniconda3/envs/openmc-env/lib/python3.11/site-packages/openmc/mixin.py:70: IDWarning: Another Material instance already exists with id=3.\n",
      "  warn(msg, IDWarning)\n"
     ]
    }
   ],
   "source": [
    "u235 = openmc.Material(name='U235')\n",
    "u235.add_nuclide('U235', 1.0)\n",
    "u235.set_density('g/cm3', 10.0)\n",
    "\n",
    "u238 = openmc.Material(name='U238')\n",
    "u238.add_nuclide('U238', 1.0)\n",
    "u238.set_density('g/cm3', 10.0)\n",
    "\n",
    "pu238 = openmc.Material(name='Pu238')\n",
    "pu238.add_nuclide('Pu238', 1.0)\n",
    "pu238.set_density('g/cm3', 10.0)\n",
    "\n",
    "pu239 = openmc.Material(name='U235')\n",
    "pu239.add_nuclide('Pu239', 1.0)\n",
    "pu239.set_density('g/cm3', 10.0)\n",
    "\n",
    "pu240 = openmc.Material(name='Pu240')\n",
    "pu240.add_nuclide('Pu240', 1.0)\n",
    "pu240.set_density('g/cm3', 10.0)\n",
    "\n",
    "pu241 = openmc.Material(name='Pu241')\n",
    "pu241.add_nuclide('Pu241', 1.0)\n",
    "pu241.set_density('g/cm3', 10.0)\n",
    "\n",
    "pu242 = openmc.Material(name='Pu242')\n",
    "pu242.add_nuclide('Pu242', 1.0)\n",
    "pu242.set_density('g/cm3', 10.0)\n",
    "\n",
    "o16 = openmc.Material(name='O16')\n",
    "o16.add_nuclide('O16', 1.0)\n",
    "o16.set_density('g/cm3', 10.0)\n",
    "\n",
    "MOX = openmc.Material.mix_materials(\n",
    "    [u235, u238, pu238, pu239, pu240, pu241, pu242, o16],\n",
    "    [0.007, 0.6615, 0.0053, 0.128, 0.05, 0.015, 0.0156, 0.1176],\n",
    "    'wo'\n",
    ")\n",
    "MOX.id = 3\n",
    "MOX.name = 'Mixed Oxide Fuel'\n",
    "MOX.temperature = 900\n",
    "MOX.depletable = True"
   ]
  },
  {
   "cell_type": "code",
   "execution_count": 10,
   "id": "cc636292",
   "metadata": {},
   "outputs": [
    {
     "data": {
      "text/plain": [
       "Material\n",
       "\tID             =\t3\n",
       "\tName           =\tMixed Oxide Fuel\n",
       "\tTemperature    =\t900\n",
       "\tDensity        =\t9.999999999999998 [g/cm3]\n",
       "\tVolume         =\tNone [cm^3]\n",
       "\tDepletable     =\tTrue\n",
       "\tS(a,b) Tables  \n",
       "\tNuclides       \n",
       "\tU235           =\t0.002694293427488127 [ao]\n",
       "\tU238           =\t0.2513946987157842 [ao]\n",
       "\tPu238          =\t0.0020142082852852893 [ao]\n",
       "\tPu239          =\t0.0484410092329312 [ao]\n",
       "\tPu240          =\t0.018843314044177772 [ao]\n",
       "\tPu241          =\t0.005629472095899 [ao]\n",
       "\tPu242          =\t0.005830418332645498 [ao]\n",
       "\tO16            =\t0.665152585865789 [ao]"
      ]
     },
     "execution_count": 10,
     "metadata": {},
     "output_type": "execute_result"
    }
   ],
   "source": [
    "MOX"
   ]
  },
  {
   "cell_type": "code",
   "execution_count": 11,
   "id": "02af8e98",
   "metadata": {},
   "outputs": [
    {
     "name": "stderr",
     "output_type": "stream",
     "text": [
      "/home/hridoy/miniconda3/envs/openmc-env/lib/python3.11/site-packages/openmc/mixin.py:70: IDWarning: Another Material instance already exists with id=4.\n",
      "  warn(msg, IDWarning)\n"
     ]
    }
   ],
   "source": [
    "\n",
    "cladding = openmc.Material(material_id=4, name=\"stainless steel 316L\")\n",
    "cladding.add_element('Fe',0.66,'wo')\n",
    "cladding.add_element('Cr', 0.17,'wo')\n",
    "cladding.add_element('Ni', 0.12,'wo')\n",
    "cladding.add_element('Mo',0.02,'wo')\n",
    "cladding.add_element('Mn',0.02,'wo')\n",
    "cladding.add_element('Si',0.01,'wo')\n",
    "cladding.set_density('g/cm3',8.0)\n",
    "cladding.temperature = 900\n",
    "cladding.depletable = False"
   ]
  },
  {
   "cell_type": "code",
   "execution_count": 12,
   "id": "7f002f11",
   "metadata": {},
   "outputs": [
    {
     "data": {
      "text/plain": [
       "Material\n",
       "\tID             =\t4\n",
       "\tName           =\tstainless steel 316L\n",
       "\tTemperature    =\t900\n",
       "\tDensity        =\t8.0 [g/cm3]\n",
       "\tVolume         =\tNone [cm^3]\n",
       "\tDepletable     =\tFalse\n",
       "\tS(a,b) Tables  \n",
       "\tNuclides       \n",
       "\tFe54           =\t0.03726068426986525 [wo]\n",
       "\tFe56           =\t0.6065500899451123 [wo]\n",
       "\tFe57           =\t0.0142584328502526 [wo]\n",
       "\tFe58           =\t0.0019307929347699884 [wo]\n",
       "\tCr50           =\t0.007095267258621133 [wo]\n",
       "\tCr52           =\t0.14228891599728805 [wo]\n",
       "\tCr53           =\t0.016445097591747813 [wo]\n",
       "\tCr54           =\t0.004170719152343044 [wo]\n",
       "\tNi58           =\t0.08063724635590787 [wo]\n",
       "\tNi60           =\t0.03213115547907547 [wo]\n",
       "\tNi61           =\t0.0014200309023560522 [wo]\n",
       "\tNi62           =\t0.004601786764184604 [wo]\n",
       "\tNi64           =\t0.0012097804984760039 [wo]\n",
       "\tMo92           =\t0.0028063782760789097 [wo]\n",
       "\tMo94           =\t0.0017982636761260057 [wo]\n",
       "\tMo95           =\t0.0031400928778060966 [wo]\n",
       "\tMo96           =\t0.0033330672702721197 [wo]\n",
       "\tMo97           =\t0.001935519101506087 [wo]\n",
       "\tMo98           =\t0.00495747447126948 [wo]\n",
       "\tMo100          =\t0.0020292043269413015 [wo]\n",
       "\tMn55           =\t0.02         [wo]\n",
       "\tSi28           =\t0.009187351728283676 [wo]\n",
       "\tSi29           =\t0.0004831750292786396 [wo]\n",
       "\tSi30           =\t0.00032947324243768423 [wo]"
      ]
     },
     "execution_count": 12,
     "metadata": {},
     "output_type": "execute_result"
    }
   ],
   "source": [
    "cladding"
   ]
  },
  {
   "cell_type": "code",
   "execution_count": 13,
   "id": "44f98168",
   "metadata": {},
   "outputs": [
    {
     "name": "stderr",
     "output_type": "stream",
     "text": [
      "/home/hridoy/miniconda3/envs/openmc-env/lib/python3.11/site-packages/openmc/mixin.py:70: IDWarning: Another Material instance already exists with id=5.\n",
      "  warn(msg, IDWarning)\n"
     ]
    }
   ],
   "source": [
    "water = openmc.Material(material_id= 5, name='Water')\n",
    "water.set_density('g/cm3', 0.76)\n",
    "water.temperature = 900\n",
    "water.add_element('H', 2)\n",
    "water.add_element('O', 1)\n",
    "water.add_s_alpha_beta('c_H_in_H2O')\n",
    "water.depletable = False"
   ]
  },
  {
   "cell_type": "code",
   "execution_count": 14,
   "id": "07f63827",
   "metadata": {},
   "outputs": [
    {
     "data": {
      "text/plain": [
       "Material\n",
       "\tID             =\t5\n",
       "\tName           =\tWater\n",
       "\tTemperature    =\t900\n",
       "\tDensity        =\t0.76 [g/cm3]\n",
       "\tVolume         =\tNone [cm^3]\n",
       "\tDepletable     =\tFalse\n",
       "\tS(a,b) Tables  \n",
       "\tS(a,b)         =\t('c_H_in_H2O', 1.0)\n",
       "\tNuclides       \n",
       "\tH1             =\t1.99968852   [ao]\n",
       "\tH2             =\t0.00031148   [ao]\n",
       "\tO16            =\t0.9976206    [ao]\n",
       "\tO17            =\t0.000379     [ao]\n",
       "\tO18            =\t0.0020004    [ao]"
      ]
     },
     "execution_count": 14,
     "metadata": {},
     "output_type": "execute_result"
    }
   ],
   "source": [
    "water"
   ]
  },
  {
   "cell_type": "code",
   "execution_count": 15,
   "id": "fec5c9b2",
   "metadata": {},
   "outputs": [
    {
     "name": "stderr",
     "output_type": "stream",
     "text": [
      "/home/hridoy/miniconda3/envs/openmc-env/lib/python3.11/site-packages/openmc/mixin.py:70: IDWarning: Another Material instance already exists with id=6.\n",
      "  warn(msg, IDWarning)\n"
     ]
    }
   ],
   "source": [
    "dep_U = openmc.Material(material_id = 6, name = 'Depleted Uranium')\n",
    "dep_U.add_element('U',1.0,enrichment=0.3)\n",
    "dep_U.add_element('O',2.0)\n",
    "dep_U.set_density('g/cc',10.96)\n",
    "dep_U.temperature = 900\n",
    "dep_U.depletable = True "
   ]
  },
  {
   "cell_type": "code",
   "execution_count": 16,
   "id": "df292c7e",
   "metadata": {},
   "outputs": [
    {
     "data": {
      "text/plain": [
       "Material\n",
       "\tID             =\t6\n",
       "\tName           =\tDepleted Uranium\n",
       "\tTemperature    =\t900\n",
       "\tDensity        =\t10.96 [g/cc]\n",
       "\tVolume         =\tNone [cm^3]\n",
       "\tDepletable     =\tTrue\n",
       "\tS(a,b) Tables  \n",
       "\tNuclides       \n",
       "\tU234           =\t2.7156394766000768e-05 [ao]\n",
       "\tU235           =\t0.003038259908592467 [ao]\n",
       "\tU238           =\t0.9969206670069353 [ao]\n",
       "\tU236           =\t1.3916689706208231e-05 [ao]\n",
       "\tO16            =\t1.9952412    [ao]\n",
       "\tO17            =\t0.000758     [ao]\n",
       "\tO18            =\t0.0040008    [ao]"
      ]
     },
     "execution_count": 16,
     "metadata": {},
     "output_type": "execute_result"
    }
   ],
   "source": [
    "dep_U"
   ]
  },
  {
   "cell_type": "code",
   "execution_count": 17,
   "id": "ec04ed47",
   "metadata": {},
   "outputs": [],
   "source": [
    "Materials = openmc.Materials([nat_u,en_u,MOX,cladding,water,dep_U])\n",
    "Materials.export_to_xml()"
   ]
  }
 ],
 "metadata": {
  "kernelspec": {
   "display_name": "Python (OpenMC in WSL)",
   "language": "python",
   "name": "openmc-env"
  },
  "language_info": {
   "codemirror_mode": {
    "name": "ipython",
    "version": 3
   },
   "file_extension": ".py",
   "mimetype": "text/x-python",
   "name": "python",
   "nbconvert_exporter": "python",
   "pygments_lexer": "ipython3",
   "version": "3.11.13"
  }
 },
 "nbformat": 4,
 "nbformat_minor": 5
}
