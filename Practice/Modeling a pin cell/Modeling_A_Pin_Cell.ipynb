{
 "cells": [
  {
   "cell_type": "code",
   "execution_count": 90,
   "id": "f9752a0e",
   "metadata": {},
   "outputs": [],
   "source": [
    "%matplotlib inline\n",
    "import openmc\n",
    "import os \n",
    "os.environ['OPENMC_CROSS_SECTIONS']='/home/hridoy/Desktop/meh/endfb-viii.0-hdf5/cross_sections.xml'"
   ]
  },
  {
   "cell_type": "code",
   "execution_count": 91,
   "id": "4a54900b",
   "metadata": {},
   "outputs": [
    {
     "name": "stdout",
     "output_type": "stream",
     "text": [
      "Material\n",
      "\tID             =\t1\n",
      "\tName           =\tuo2\n",
      "\tTemperature    =\tNone\n",
      "\tDensity        =\tNone [sum]\n",
      "\tVolume         =\tNone [cm^3]\n",
      "\tDepletable     =\tFalse\n",
      "\tS(a,b) Tables  \n",
      "\tNuclides       \n",
      "\n"
     ]
    },
    {
     "name": "stderr",
     "output_type": "stream",
     "text": [
      "/home/hridoy/anaconda3/envs/openmc-env/lib/python3.12/site-packages/openmc/mixin.py:70: IDWarning: Another Material instance already exists with id=1.\n",
      "  warn(msg, IDWarning)\n"
     ]
    }
   ],
   "source": [
    "uo2 = openmc.Material(1, \"uo2\")\n",
    "print(uo2)"
   ]
  },
  {
   "cell_type": "code",
   "execution_count": 92,
   "id": "20997a9e",
   "metadata": {},
   "outputs": [
    {
     "name": "stdout",
     "output_type": "stream",
     "text": [
      "Material\n",
      "\tID             =\t14\n",
      "\tName           =\t\n",
      "\tTemperature    =\tNone\n",
      "\tDensity        =\tNone [sum]\n",
      "\tVolume         =\tNone [cm^3]\n",
      "\tDepletable     =\tFalse\n",
      "\tS(a,b) Tables  \n",
      "\tNuclides       \n",
      "\n"
     ]
    }
   ],
   "source": [
    "mat = openmc.Material()\n",
    "print(mat)"
   ]
  },
  {
   "cell_type": "code",
   "execution_count": 93,
   "id": "37357195",
   "metadata": {},
   "outputs": [
    {
     "name": "stdout",
     "output_type": "stream",
     "text": [
      "Help on method add_nuclide in module openmc.material:\n",
      "\n",
      "add_nuclide(nuclide: 'str', percent: 'float', percent_type: 'str' = 'ao') method of openmc.material.Material instance\n",
      "    Add a nuclide to the material\n",
      "\n",
      "    Parameters\n",
      "    ----------\n",
      "    nuclide : str\n",
      "        Nuclide to add, e.g., 'Mo95'\n",
      "    percent : float\n",
      "        Atom or weight percent\n",
      "    percent_type : {'ao', 'wo'}\n",
      "        'ao' for atom percent and 'wo' for weight percent\n",
      "\n"
     ]
    }
   ],
   "source": [
    "help(uo2.add_nuclide)"
   ]
  },
  {
   "cell_type": "code",
   "execution_count": 94,
   "id": "aaad6a38",
   "metadata": {},
   "outputs": [],
   "source": [
    "#Add nuclides to uo2\n",
    "uo2.add_nuclide('U235', 0.03)\n",
    "uo2.add_nuclide('U238', 0.97)\n",
    "uo2.add_nuclide('O16', 2.0)"
   ]
  },
  {
   "cell_type": "code",
   "execution_count": 95,
   "id": "11384a4b",
   "metadata": {},
   "outputs": [
    {
     "name": "stdout",
     "output_type": "stream",
     "text": [
      "Help on method set_density in module openmc.material:\n",
      "\n",
      "set_density(units: 'str', density: 'float | None' = None) method of openmc.material.Material instance\n",
      "    Set the density of the material\n",
      "\n",
      "    Parameters\n",
      "    ----------\n",
      "    units : {'g/cm3', 'g/cc', 'kg/m3', 'atom/b-cm', 'atom/cm3', 'sum', 'macro'}\n",
      "        Physical units of density.\n",
      "    density : float, optional\n",
      "        Value of the density. Must be specified unless units is given as\n",
      "        'sum'.\n",
      "\n"
     ]
    }
   ],
   "source": [
    "help(uo2.set_density)"
   ]
  },
  {
   "cell_type": "code",
   "execution_count": 96,
   "id": "3a26a34d",
   "metadata": {},
   "outputs": [],
   "source": [
    "uo2.set_density('g/cm3', 10.0)"
   ]
  },
  {
   "cell_type": "code",
   "execution_count": 97,
   "id": "2141ec68",
   "metadata": {},
   "outputs": [],
   "source": [
    "# Cladding material\n",
    "zirconium = openmc.Material(name=\"zirconium\")\n",
    "zirconium.add_element('Zr', 1.0)\n",
    "zirconium.set_density('g/cm3', 6.6)\n",
    "\n",
    "# Cooling material\n",
    "water = openmc.Material(name=\"h2o\")\n",
    "water.add_nuclide('H1', 2.0)\n",
    "water.add_nuclide('O16', 1.0)\n",
    "water.set_density('g/cm3', 1.0)"
   ]
  },
  {
   "cell_type": "code",
   "execution_count": 98,
   "id": "f009ffca",
   "metadata": {},
   "outputs": [],
   "source": [
    "water.add_s_alpha_beta('c_H_in_H2O')"
   ]
  },
  {
   "cell_type": "code",
   "execution_count": 99,
   "id": "a7ee2e84",
   "metadata": {},
   "outputs": [],
   "source": [
    "materials = openmc.Materials([uo2, zirconium, water])"
   ]
  },
  {
   "cell_type": "code",
   "execution_count": 100,
   "id": "9890ffd2",
   "metadata": {},
   "outputs": [
    {
     "data": {
      "text/plain": [
       "True"
      ]
     },
     "execution_count": 100,
     "metadata": {},
     "output_type": "execute_result"
    }
   ],
   "source": [
    "materials = openmc.Materials()\n",
    "materials.append(uo2)\n",
    "materials += [zirconium, water]\n",
    "isinstance(materials, list)"
   ]
  },
  {
   "cell_type": "code",
   "execution_count": 101,
   "id": "298737f3",
   "metadata": {},
   "outputs": [
    {
     "name": "stdout",
     "output_type": "stream",
     "text": [
      "<?xml version='1.0' encoding='utf-8'?>\n",
      "<materials>\n",
      "  <material depletable=\"true\" id=\"1\" name=\"uo2\">\n",
      "    <density units=\"g/cm3\" value=\"10.0\"/>\n",
      "    <nuclide ao=\"0.03\" name=\"U235\"/>\n",
      "    <nuclide ao=\"0.97\" name=\"U238\"/>\n",
      "    <nuclide ao=\"2.0\" name=\"O16\"/>\n",
      "  </material>\n",
      "  <material id=\"15\" name=\"zirconium\">\n",
      "    <density units=\"g/cm3\" value=\"6.6\"/>\n",
      "    <nuclide ao=\"0.5145\" name=\"Zr90\"/>\n",
      "    <nuclide ao=\"0.1122\" name=\"Zr91\"/>\n",
      "    <nuclide ao=\"0.1715\" name=\"Zr92\"/>\n",
      "    <nuclide ao=\"0.1738\" name=\"Zr94\"/>\n",
      "    <nuclide ao=\"0.028\" name=\"Zr96\"/>\n",
      "  </material>\n",
      "  <material id=\"16\" name=\"h2o\">\n",
      "    <density units=\"g/cm3\" value=\"1.0\"/>\n",
      "    <nuclide ao=\"2.0\" name=\"H1\"/>\n",
      "    <nuclide ao=\"1.0\" name=\"O16\"/>\n",
      "    <sab name=\"c_H_in_H2O\"/>\n",
      "  </material>\n",
      "</materials>\n"
     ]
    }
   ],
   "source": [
    "materials.export_to_xml()\n",
    "!cat materials.xml"
   ]
  },
  {
   "cell_type": "code",
   "execution_count": 102,
   "id": "7b10abdb",
   "metadata": {},
   "outputs": [
    {
     "name": "stdout",
     "output_type": "stream",
     "text": [
      "<?xml version='1.0' encoding='utf-8'?>\n",
      "<materials>\n",
      "  <material depletable=\"true\" id=\"1\" name=\"uo2\">\n",
      "    <density units=\"g/cm3\" value=\"10.0\"/>\n",
      "    <nuclide ao=\"0.03\" name=\"U235\"/>\n",
      "    <nuclide ao=\"0.97\" name=\"U238\"/>\n",
      "    <nuclide ao=\"2.0\" name=\"O16\"/>\n",
      "  </material>\n",
      "  <material id=\"15\" name=\"zirconium\">\n",
      "    <density units=\"g/cm3\" value=\"6.6\"/>\n",
      "    <nuclide ao=\"0.5145\" name=\"Zr90\"/>\n",
      "    <nuclide ao=\"0.1122\" name=\"Zr91\"/>\n",
      "    <nuclide ao=\"0.1715\" name=\"Zr92\"/>\n",
      "    <nuclide ao=\"0.1738\" name=\"Zr94\"/>\n",
      "    <nuclide ao=\"0.028\" name=\"Zr96\"/>\n",
      "  </material>\n",
      "  <material id=\"16\" name=\"h2o\">\n",
      "    <density units=\"g/cm3\" value=\"1.0\"/>\n",
      "    <nuclide ao=\"2.0\" name=\"H1\"/>\n",
      "    <nuclide ao=\"0.9976206\" name=\"O16\"/>\n",
      "    <nuclide ao=\"0.000379\" name=\"O17\"/>\n",
      "    <nuclide ao=\"0.0020004\" name=\"O18\"/>\n",
      "    <sab name=\"c_H_in_H2O\"/>\n",
      "  </material>\n",
      "</materials>\n"
     ]
    }
   ],
   "source": [
    "water.remove_nuclide('O16')\n",
    "water.add_element('O', 1.0)\n",
    "\n",
    "materials.export_to_xml()\n",
    "!cat materials.xml"
   ]
  },
  {
   "cell_type": "code",
   "execution_count": 103,
   "id": "1012dc6b",
   "metadata": {},
   "outputs": [
    {
     "name": "stdout",
     "output_type": "stream",
     "text": [
      "<?xml version='1.0' encoding='utf-8'?>\n",
      "<cross_sections>\n",
      "  <library materials=\"H1\" path=\"neutron/H1.h5\" type=\"neutron\" />\n",
      "  <library materials=\"H2\" path=\"neutron/H2.h5\" type=\"neutron\" />\n",
      "  <library materials=\"H3\" path=\"neutron/H3.h5\" type=\"neutron\" />\n",
      "  <library materials=\"He3\" path=\"neutron/He3.h5\" type=\"neutron\" />\n",
      "  <library materials=\"He4\" path=\"neutron/He4.h5\" type=\"neutron\" />\n",
      "  <library materials=\"Li6\" path=\"neutron/Li6.h5\" type=\"neutron\" />\n",
      "  <library materials=\"Li7\" path=\"neutron/Li7.h5\" type=\"neutron\" />\n",
      "  <library materials=\"Be7\" path=\"neutron/Be7.h5\" type=\"neutron\" />\n",
      "    ...\n",
      "  <library materials=\"U\" path=\"photon/U.h5\" type=\"photon\" />\n",
      "  <library materials=\"Np\" path=\"photon/Np.h5\" type=\"photon\" />\n",
      "  <library materials=\"Pu\" path=\"photon/Pu.h5\" type=\"photon\" />\n",
      "  <library materials=\"Am\" path=\"photon/Am.h5\" type=\"photon\" />\n",
      "  <library materials=\"Cm\" path=\"photon/Cm.h5\" type=\"photon\" />\n",
      "  <library materials=\"Bk\" path=\"photon/Bk.h5\" type=\"photon\" />\n",
      "  <library materials=\"Cf\" path=\"photon/Cf.h5\" type=\"photon\" />\n",
      "  <library materials=\"Es\" path=\"photon/Es.h5\" type=\"photon\" />\n",
      "  <library materials=\"Fm\" path=\"photon/Fm.h5\" type=\"photon\" />\n",
      "</cross_sections>\n"
     ]
    }
   ],
   "source": [
    "!cat $OPENMC_CROSS_SECTIONS | head -n 10\n",
    "print('    ...')\n",
    "!cat $OPENMC_CROSS_SECTIONS | tail -n 10"
   ]
  },
  {
   "cell_type": "code",
   "execution_count": 104,
   "id": "3ddd2e22",
   "metadata": {},
   "outputs": [],
   "source": [
    "uo2_three = openmc.Material()\n",
    "uo2_three.add_element('U', 1.0, enrichment=3.0)\n",
    "uo2_three.add_element('O', 2.0)\n",
    "uo2_three.set_density('g/cm3', 10.0)"
   ]
  },
  {
   "cell_type": "code",
   "execution_count": 105,
   "id": "2c713357",
   "metadata": {},
   "outputs": [],
   "source": [
    "# Creating PuO2 material\n",
    "puo2 = openmc.Material()\n",
    "puo2.add_nuclide('Pu239', 0.94)\n",
    "puo2.add_nuclide('Pu240', 0.06)\n",
    "puo2.add_nuclide('O16', 2.0)\n",
    "puo2.set_density('g/cm3', 11.5)\n",
    "\n",
    "#Create the mixture\n",
    "mox = openmc.Material.mix_materials([uo2, puo2], [0.97, 0.03], 'wo')"
   ]
  },
  {
   "cell_type": "code",
   "execution_count": 106,
   "id": "19c83120",
   "metadata": {},
   "outputs": [],
   "source": [
    "sphere = openmc.Sphere(r=1.0)"
   ]
  },
  {
   "cell_type": "code",
   "execution_count": 107,
   "id": "31d7fd73",
   "metadata": {},
   "outputs": [],
   "source": [
    "inside_sphere = -sphere\n",
    "outside_sphere = +sphere"
   ]
  },
  {
   "cell_type": "code",
   "execution_count": 108,
   "id": "0ee30e44",
   "metadata": {},
   "outputs": [
    {
     "name": "stdout",
     "output_type": "stream",
     "text": [
      "True False\n",
      "False True\n"
     ]
    }
   ],
   "source": [
    "print((0,0,0) in inside_sphere, (0,0,2) in inside_sphere)\n",
    "print((0,0,0) in outside_sphere, (0,0,2) in outside_sphere)"
   ]
  },
  {
   "cell_type": "code",
   "execution_count": 109,
   "id": "21a3bfcf",
   "metadata": {},
   "outputs": [],
   "source": [
    "z_plane = openmc.ZPlane(0)\n",
    "northern_hemisphere = -sphere & +z_plane"
   ]
  },
  {
   "cell_type": "code",
   "execution_count": 110,
   "id": "80f6081b",
   "metadata": {},
   "outputs": [
    {
     "data": {
      "text/plain": [
       "BoundingBox(lower_left=(-1.0, -1.0, 0.0), upper_right=(1.0, 1.0, 1.0))"
      ]
     },
     "execution_count": 110,
     "metadata": {},
     "output_type": "execute_result"
    }
   ],
   "source": [
    "northern_hemisphere.bounding_box"
   ]
  },
  {
   "cell_type": "code",
   "execution_count": 111,
   "id": "5d15c4f1",
   "metadata": {},
   "outputs": [],
   "source": [
    "cell = openmc.Cell()\n",
    "cell.region = northern_hemisphere\n",
    "\n",
    "#or...\n",
    "cell = openmc.Cell(region=northern_hemisphere)"
   ]
  },
  {
   "cell_type": "code",
   "execution_count": 112,
   "id": "c89ee043",
   "metadata": {},
   "outputs": [],
   "source": [
    "cell.fill = water"
   ]
  },
  {
   "cell_type": "code",
   "execution_count": 113,
   "id": "9d6604b8",
   "metadata": {},
   "outputs": [],
   "source": [
    "universe = openmc.Universe()\n",
    "universe.add_cell(cell)\n",
    "\n",
    "# this also works \n",
    "universe = openmc.Universe(cells=[cell])"
   ]
  },
  {
   "cell_type": "code",
   "execution_count": 114,
   "id": "f634184c",
   "metadata": {},
   "outputs": [
    {
     "data": {
      "text/plain": [
       "<Axes: xlabel='x [cm]', ylabel='y [cm]'>"
      ]
     },
     "execution_count": 114,
     "metadata": {},
     "output_type": "execute_result"
    },
    {
     "data": {
      "image/png": "[encoded data removed]",
      "text/plain": [
       "<Figure size 258.065x259.74 with 1 Axes>"
      ]
     },
     "metadata": {},
     "output_type": "display_data"
    }
   ],
   "source": [
    "universe.plot(width=(2.0, 2.0), origin=(0.0, 0.0, 0.1))"
   ]
  },
  {
   "cell_type": "code",
   "execution_count": 115,
   "id": "da3c6d33",
   "metadata": {},
   "outputs": [
    {
     "data": {
      "text/plain": [
       "<Axes: xlabel='x [cm]', ylabel='z [cm]'>"
      ]
     },
     "execution_count": 115,
     "metadata": {},
     "output_type": "execute_result"
    },
    {
     "data": {
      "image/png": "[encoded data removed]",
      "text/plain": [
       "<Figure size 258.065x259.74 with 1 Axes>"
      ]
     },
     "metadata": {},
     "output_type": "display_data"
    }
   ],
   "source": [
    "universe.plot(width=(2.0, 2.0), basis='xz')"
   ]
  },
  {
   "cell_type": "code",
   "execution_count": 116,
   "id": "4d12428d",
   "metadata": {},
   "outputs": [
    {
     "data": {
      "text/plain": [
       "<Axes: xlabel='x [cm]', ylabel='z [cm]'>"
      ]
     },
     "execution_count": 116,
     "metadata": {},
     "output_type": "execute_result"
    },
    {
     "data": {
      "image/png": "[encoded data removed]",
      "text/plain": [
       "<Figure size 258.065x259.74 with 1 Axes>"
      ]
     },
     "metadata": {},
     "output_type": "display_data"
    }
   ],
   "source": [
    "universe.plot(width=(2.0, 2.0), basis='xz',\n",
    "              colors={cell: 'fuchsia'})"
   ]
  },
  {
   "cell_type": "markdown",
   "id": "a1530f30",
   "metadata": {},
   "source": [
    "Pin cell geometry\n",
    "\n",
    "1. The outer surface of the fuel -- a cylinder parallel to the z axis\n",
    "2. The inner surface of the clad -- same as above\n",
    "3. The outer surface of the clad -- same as above"
   ]
  },
  {
   "cell_type": "code",
   "execution_count": 117,
   "id": "e6f16f34",
   "metadata": {},
   "outputs": [],
   "source": [
    "fuel_outer_radius = openmc.ZCylinder(r=0.39)\n",
    "clad_inner_radius = openmc.ZCylinder(r=0.40)\n",
    "clad_outer_radius = openmc.ZCylinder(r=0.46)"
   ]
  },
  {
   "cell_type": "code",
   "execution_count": 118,
   "id": "b2f3ca9b",
   "metadata": {},
   "outputs": [],
   "source": [
    "fuel_region = -fuel_outer_radius\n",
    "gap_region = +fuel_outer_radius & -clad_inner_radius\n",
    "clad_region = +clad_inner_radius & -clad_outer_radius"
   ]
  },
  {
   "cell_type": "code",
   "execution_count": 119,
   "id": "f98be768",
   "metadata": {},
   "outputs": [],
   "source": [
    "fuel = openmc.Cell(name='fuel')\n",
    "fuel.fill = uo2\n",
    "fuel.region = fuel_region\n",
    "\n",
    "gap = openmc.Cell(name='air gap')\n",
    "gap.region = gap_region\n",
    "\n",
    "clad = openmc.Cell(name='clad')\n",
    "clad.fill = zirconium\n",
    "clad.region = clad_region"
   ]
  },
  {
   "cell_type": "code",
   "execution_count": 120,
   "id": "93ce7bcd",
   "metadata": {},
   "outputs": [],
   "source": [
    "pitch = 1.26\n",
    "left = openmc.XPlane(-pitch/2, boundary_type='reflective')\n",
    "right = openmc.XPlane(pitch/2, boundary_type='reflective')\n",
    "bottom = openmc.YPlane(-pitch/2, boundary_type='reflective')\n",
    "top = openmc.YPlane(pitch/2, boundary_type='reflective')\n"
   ]
  },
  {
   "cell_type": "code",
   "execution_count": 121,
   "id": "9b28f288",
   "metadata": {},
   "outputs": [],
   "source": [
    "water_region = +left & -right & +bottom & -top & +clad_outer_radius\n",
    "\n",
    "moderator = openmc.Cell(name='moderator')\n",
    "moderator.fill = water\n",
    "moderator.region = water_region"
   ]
  },
  {
   "cell_type": "code",
   "execution_count": 122,
   "id": "dff9cb5b",
   "metadata": {},
   "outputs": [
    {
     "data": {
      "text/plain": [
       "openmc.model.surface_composite.RectangularPrism"
      ]
     },
     "execution_count": 122,
     "metadata": {},
     "output_type": "execute_result"
    }
   ],
   "source": [
    "box = openmc.model.RectangularPrism(width=pitch, height=pitch,\n",
    "                                    boundary_type='reflective')\n",
    "type(box)\n",
    "\n"
   ]
  },
  {
   "cell_type": "code",
   "execution_count": 123,
   "id": "57b1dc53",
   "metadata": {},
   "outputs": [],
   "source": [
    "water_region = -box & +clad_outer_radius"
   ]
  },
  {
   "cell_type": "code",
   "execution_count": 124,
   "id": "bc1a1416",
   "metadata": {},
   "outputs": [
    {
     "name": "stdout",
     "output_type": "stream",
     "text": [
      "<?xml version='1.0' encoding='UTF-8'?>\n",
      "<geometry>\n",
      "  <cell id=\"15\" material=\"1\" name=\"fuel\" region=\"-36\" universe=\"9\"/>\n",
      "  <cell id=\"16\" material=\"void\" name=\"air gap\" region=\"36 -37\" universe=\"9\"/>\n",
      "  <cell id=\"17\" material=\"15\" name=\"clad\" region=\"37 -38\" universe=\"9\"/>\n",
      "  <cell id=\"18\" material=\"16\" name=\"moderator\" region=\"39 -40 41 -42 38\" universe=\"9\"/>\n",
      "  <surface coeffs=\"0.0 0.0 0.39\" id=\"36\" type=\"z-cylinder\"/>\n",
      "  <surface coeffs=\"0.0 0.0 0.4\" id=\"37\" type=\"z-cylinder\"/>\n",
      "  <surface coeffs=\"0.0 0.0 0.46\" id=\"38\" type=\"z-cylinder\"/>\n",
      "  <surface boundary=\"reflective\" coeffs=\"-0.63\" id=\"39\" type=\"x-plane\"/>\n",
      "  <surface boundary=\"reflective\" coeffs=\"0.63\" id=\"40\" type=\"x-plane\"/>\n",
      "  <surface boundary=\"reflective\" coeffs=\"-0.63\" id=\"41\" type=\"y-plane\"/>\n",
      "  <surface boundary=\"reflective\" coeffs=\"0.63\" id=\"42\" type=\"y-plane\"/>\n",
      "</geometry>\n"
     ]
    }
   ],
   "source": [
    "root_universe = openmc.Universe(cells=(fuel, gap, clad, moderator))\n",
    "\n",
    "geometry = openmc.Geometry()\n",
    "geometry.root_universe = root_universe\n",
    "\n",
    "# or...\n",
    "geometry = openmc.Geometry(root_universe)\n",
    "geometry.export_to_xml()\n",
    "!cat geometry.xml"
   ]
  },
  {
   "cell_type": "code",
   "execution_count": 125,
   "id": "d33ad763",
   "metadata": {},
   "outputs": [],
   "source": [
    "# Create a point source \n",
    "point = openmc.stats.Point((0, 0, 0))\n",
    "source = openmc.IndependentSource(space=point)"
   ]
  },
  {
   "cell_type": "code",
   "execution_count": 126,
   "id": "9360a48e",
   "metadata": {},
   "outputs": [],
   "source": [
    "settings = openmc.Settings()\n",
    "settings.source = source\n",
    "settings.batches = 100\n",
    "settings.inactive = 10\n",
    "settings.particles = 1000"
   ]
  },
  {
   "cell_type": "code",
   "execution_count": 127,
   "id": "17719f5e",
   "metadata": {},
   "outputs": [
    {
     "name": "stdout",
     "output_type": "stream",
     "text": [
      "<?xml version='1.0' encoding='UTF-8'?>\n",
      "<settings>\n",
      "  <run_mode>eigenvalue</run_mode>\n",
      "  <particles>1000</particles>\n",
      "  <batches>100</batches>\n",
      "  <inactive>10</inactive>\n",
      "  <source particle=\"neutron\" strength=\"1.0\" type=\"independent\">\n",
      "    <space type=\"point\">\n",
      "      <parameters>0 0 0</parameters>\n",
      "    </space>\n",
      "  </source>\n",
      "</settings>\n"
     ]
    }
   ],
   "source": [
    "settings.export_to_xml()\n",
    "!cat settings.xml"
   ]
  },
  {
   "cell_type": "code",
   "execution_count": 128,
   "id": "d905af88",
   "metadata": {},
   "outputs": [
    {
     "name": "stderr",
     "output_type": "stream",
     "text": [
      "/home/hridoy/anaconda3/envs/openmc-env/lib/python3.12/site-packages/openmc/mixin.py:70: IDWarning: Another Tally instance already exists with id=1.\n",
      "  warn(msg, IDWarning)\n"
     ]
    }
   ],
   "source": [
    "# filter = where to be tallied & source = what to be tallied\n",
    "cell_filter = openmc.CellFilter(fuel)\n",
    "\n",
    "tally = openmc.Tally(1)\n",
    "tally.filters = [cell_filter]"
   ]
  },
  {
   "cell_type": "code",
   "execution_count": 129,
   "id": "26cee1fa",
   "metadata": {},
   "outputs": [],
   "source": [
    "tally.nuclides = ['U235']\n",
    "tally.scores = ['total', 'fission', 'absorption', '(n,gamma)']"
   ]
  },
  {
   "cell_type": "code",
   "execution_count": 130,
   "id": "168bc2e4",
   "metadata": {},
   "outputs": [
    {
     "name": "stdout",
     "output_type": "stream",
     "text": [
      "<?xml version='1.0' encoding='UTF-8'?>\n",
      "<tallies>\n",
      "  <filter id=\"3\" type=\"cell\">\n",
      "    <bins>15</bins>\n",
      "  </filter>\n",
      "  <tally id=\"1\">\n",
      "    <filters>3</filters>\n",
      "    <nuclides>U235</nuclides>\n",
      "    <scores>total fission absorption (n,gamma)</scores>\n",
      "  </tally>\n",
      "</tallies>\n"
     ]
    }
   ],
   "source": [
    "tallies = openmc.Tallies([tally])\n",
    "tallies.export_to_xml()\n",
    "!cat tallies.xml"
   ]
  },
  {
   "cell_type": "code",
   "execution_count": 131,
   "id": "15c292de",
   "metadata": {},
   "outputs": [
    {
     "name": "stdout",
     "output_type": "stream",
     "text": [
      "                                %%%%%%%%%%%%%%%\n",
      "                           %%%%%%%%%%%%%%%%%%%%%%%%\n",
      "                        %%%%%%%%%%%%%%%%%%%%%%%%%%%%%%\n",
      "                      %%%%%%%%%%%%%%%%%%%%%%%%%%%%%%%%%%\n",
      "                    %%%%%%%%%%%%%%%%%%%%%%%%%%%%%%%%%%%%%%\n",
      "                   %%%%%%%%%%%%%%%%%%%%%%%%%%%%%%%%%%%%%%%%\n",
      "                                    %%%%%%%%%%%%%%%%%%%%%%%%\n",
      "                                     %%%%%%%%%%%%%%%%%%%%%%%%\n",
      "                 ###############      %%%%%%%%%%%%%%%%%%%%%%%%\n",
      "                ##################     %%%%%%%%%%%%%%%%%%%%%%%\n",
      "                ###################     %%%%%%%%%%%%%%%%%%%%%%%\n",
      "                ####################     %%%%%%%%%%%%%%%%%%%%%%\n",
      "                #####################     %%%%%%%%%%%%%%%%%%%%%\n",
      "                ######################     %%%%%%%%%%%%%%%%%%%%\n",
      "                #######################     %%%%%%%%%%%%%%%%%%\n",
      "                 #######################     %%%%%%%%%%%%%%%%%\n",
      "                 ######################     %%%%%%%%%%%%%%%%%\n",
      "                  ####################     %%%%%%%%%%%%%%%%%\n",
      "                    #################     %%%%%%%%%%%%%%%%%\n",
      "                     ###############     %%%%%%%%%%%%%%%%\n",
      "                       ############     %%%%%%%%%%%%%%%\n",
      "                          ########     %%%%%%%%%%%%%%\n",
      "                                      %%%%%%%%%%%\n",
      "\n",
      "                 | The OpenMC Monte Carlo Code\n",
      "       Copyright | 2011-2025 MIT, UChicago Argonne LLC, and contributors\n",
      "         License | https://docs.openmc.org/en/latest/license.html\n",
      "         Version | 0.15.2\n",
      "     Commit Hash | e23760b0264c66fb7bb373aa0596801e5209d920\n",
      "       Date/Time | 2025-07-31 14:56:33\n",
      "  OpenMP Threads | 8\n",
      "\n",
      " Reading settings XML file...\n",
      " Reading cross sections XML file...\n",
      " Reading materials XML file...\n",
      " Reading geometry XML file...\n",
      " Reading U235 from /home/hridoy/Desktop/meh/endfb-viii.0-hdf5/neutron/U235.h5\n",
      " Reading U238 from /home/hridoy/Desktop/meh/endfb-viii.0-hdf5/neutron/U238.h5\n",
      " Reading O16 from /home/hridoy/Desktop/meh/endfb-viii.0-hdf5/neutron/O16.h5\n",
      " Reading Zr90 from /home/hridoy/Desktop/meh/endfb-viii.0-hdf5/neutron/Zr90.h5\n",
      " Reading Zr91 from /home/hridoy/Desktop/meh/endfb-viii.0-hdf5/neutron/Zr91.h5\n",
      " Reading Zr92 from /home/hridoy/Desktop/meh/endfb-viii.0-hdf5/neutron/Zr92.h5\n",
      " Reading Zr94 from /home/hridoy/Desktop/meh/endfb-viii.0-hdf5/neutron/Zr94.h5\n",
      " Reading Zr96 from /home/hridoy/Desktop/meh/endfb-viii.0-hdf5/neutron/Zr96.h5\n",
      " WARNING: Negative value(s) found on probability table for nuclide Zr96 at 294K\n",
      " Reading H1 from /home/hridoy/Desktop/meh/endfb-viii.0-hdf5/neutron/H1.h5\n",
      " Reading O17 from /home/hridoy/Desktop/meh/endfb-viii.0-hdf5/neutron/O17.h5\n",
      " Reading O18 from /home/hridoy/Desktop/meh/endfb-viii.0-hdf5/neutron/O18.h5\n",
      " Reading c_H_in_H2O from\n",
      " /home/hridoy/Desktop/meh/endfb-viii.0-hdf5/neutron/c_H_in_H2O.h5\n",
      " Minimum neutron data temperature: 294 K\n",
      " Maximum neutron data temperature: 294 K\n",
      " Reading tallies XML file...\n",
      " Preparing distributed cell instances...\n",
      " Reading plot XML file...\n",
      " Writing summary.h5 file...\n",
      " Maximum neutron transport energy: 20000000 eV for Zr90\n",
      " Initializing source particles...\n",
      "\n",
      " ====================>     K EIGENVALUE SIMULATION     <====================\n",
      "\n",
      "  Bat./Gen.      k            Average k\n",
      "  =========   ========   ====================\n",
      "        1/1    1.41072\n",
      "        2/1    1.39222\n",
      "        3/1    1.37804\n",
      "        4/1    1.37127\n",
      "        5/1    1.40937\n",
      "        6/1    1.38609\n",
      "        7/1    1.33812\n",
      "        8/1    1.40593\n",
      "        9/1    1.38638\n",
      "       10/1    1.40131\n",
      "       11/1    1.30234\n",
      "       12/1    1.47823    1.39028 +/- 0.08795\n",
      "       13/1    1.41976    1.40011 +/- 0.05172\n",
      "       14/1    1.40873    1.40226 +/- 0.03663\n",
      "       15/1    1.37549    1.39691 +/- 0.02888\n",
      "       16/1    1.39725    1.39696 +/- 0.02358\n",
      "       17/1    1.42836    1.40145 +/- 0.02043\n",
      "       18/1    1.36824    1.39730 +/- 0.01817\n",
      "       19/1    1.41856    1.39966 +/- 0.01620\n",
      "       20/1    1.42449    1.40214 +/- 0.01470\n",
      "       21/1    1.40007    1.40196 +/- 0.01330\n",
      "       22/1    1.52924    1.41256 +/- 0.01612\n",
      "       23/1    1.47273    1.41719 +/- 0.01553\n",
      "       24/1    1.45364    1.41979 +/- 0.01461\n",
      "       25/1    1.36885    1.41640 +/- 0.01402\n",
      "       26/1    1.39765    1.41523 +/- 0.01317\n",
      "       27/1    1.38380    1.41338 +/- 0.01251\n",
      "       28/1    1.35668    1.41023 +/- 0.01221\n",
      "       29/1    1.37522    1.40839 +/- 0.01169\n",
      "       30/1    1.37264    1.40660 +/- 0.01124\n",
      "       31/1    1.40030    1.40630 +/- 0.01069\n",
      "       32/1    1.43259    1.40749 +/- 0.01026\n",
      "       33/1    1.39462    1.40693 +/- 0.00982\n",
      "       34/1    1.47217    1.40965 +/- 0.00979\n",
      "       35/1    1.37372    1.40822 +/- 0.00950\n",
      "       36/1    1.37882    1.40708 +/- 0.00920\n",
      "       37/1    1.37560    1.40592 +/- 0.00893\n",
      "       38/1    1.38657    1.40523 +/- 0.00863\n",
      "       39/1    1.53457    1.40969 +/- 0.00945\n",
      "       40/1    1.39041    1.40904 +/- 0.00915\n",
      "       41/1    1.38041    1.40812 +/- 0.00890\n",
      "       42/1    1.36345    1.40673 +/- 0.00873\n",
      "       43/1    1.30420    1.40362 +/- 0.00901\n",
      "       44/1    1.40428    1.40364 +/- 0.00874\n",
      "       45/1    1.36183    1.40244 +/- 0.00857\n",
      "       46/1    1.45254    1.40384 +/- 0.00844\n",
      "       47/1    1.37242    1.40299 +/- 0.00826\n",
      "       48/1    1.39580    1.40280 +/- 0.00804\n",
      "       49/1    1.47586    1.40467 +/- 0.00805\n",
      "       50/1    1.42760    1.40524 +/- 0.00787\n",
      "       51/1    1.34978    1.40389 +/- 0.00779\n",
      "       52/1    1.33688    1.40230 +/- 0.00777\n",
      "       53/1    1.37585    1.40168 +/- 0.00761\n",
      "       54/1    1.34575    1.40041 +/- 0.00754\n",
      "       55/1    1.39500    1.40029 +/- 0.00738\n",
      "       56/1    1.40141    1.40031 +/- 0.00721\n",
      "       57/1    1.35415    1.39933 +/- 0.00713\n",
      "       58/1    1.45339    1.40046 +/- 0.00707\n",
      "       59/1    1.30850    1.39858 +/- 0.00717\n",
      "       60/1    1.44595    1.39953 +/- 0.00709\n",
      "       61/1    1.37398    1.39903 +/- 0.00697\n",
      "       62/1    1.41816    1.39939 +/- 0.00684\n",
      "       63/1    1.44187    1.40020 +/- 0.00676\n",
      "       64/1    1.38319    1.39988 +/- 0.00664\n",
      "       65/1    1.40919    1.40005 +/- 0.00652\n",
      "       66/1    1.35631    1.39927 +/- 0.00645\n",
      "       67/1    1.33414    1.39813 +/- 0.00644\n",
      "       68/1    1.34096    1.39714 +/- 0.00640\n",
      "       69/1    1.43914    1.39785 +/- 0.00633\n",
      "       70/1    1.43715    1.39851 +/- 0.00626\n",
      "       71/1    1.32494    1.39730 +/- 0.00628\n",
      "       72/1    1.37420    1.39693 +/- 0.00618\n",
      "       73/1    1.43178    1.39748 +/- 0.00611\n",
      "       74/1    1.35059    1.39675 +/- 0.00606\n",
      "       75/1    1.40558    1.39689 +/- 0.00597\n",
      "       76/1    1.35726    1.39629 +/- 0.00591\n",
      "       77/1    1.33132    1.39532 +/- 0.00590\n",
      "       78/1    1.47770    1.39653 +/- 0.00594\n",
      "       79/1    1.38304    1.39633 +/- 0.00585\n",
      "       80/1    1.37574    1.39604 +/- 0.00578\n",
      "       81/1    1.40848    1.39621 +/- 0.00570\n",
      "       82/1    1.39206    1.39616 +/- 0.00562\n",
      "       83/1    1.34806    1.39550 +/- 0.00558\n",
      "       84/1    1.30727    1.39430 +/- 0.00563\n",
      "       85/1    1.33899    1.39357 +/- 0.00560\n",
      "       86/1    1.39422    1.39358 +/- 0.00553\n",
      "       87/1    1.39119    1.39354 +/- 0.00546\n",
      "       88/1    1.45990    1.39440 +/- 0.00545\n",
      "       89/1    1.35976    1.39396 +/- 0.00540\n",
      "       90/1    1.51228    1.39544 +/- 0.00553\n",
      "       91/1    1.34031    1.39476 +/- 0.00551\n",
      "       92/1    1.38009    1.39458 +/- 0.00544\n",
      "       93/1    1.37368    1.39432 +/- 0.00538\n",
      "       94/1    1.33614    1.39363 +/- 0.00536\n",
      "       95/1    1.44759    1.39427 +/- 0.00534\n",
      "       96/1    1.40656    1.39441 +/- 0.00528\n",
      "       97/1    1.36163    1.39403 +/- 0.00523\n",
      "       98/1    1.34449    1.39347 +/- 0.00520\n",
      "       99/1    1.39909    1.39353 +/- 0.00514\n",
      "      100/1    1.39898    1.39359 +/- 0.00509\n",
      " Creating state point statepoint.100.h5...\n",
      "\n",
      " =======================>     TIMING STATISTICS     <=======================\n",
      "\n",
      " Total time for initialization     = 1.1841e+00 seconds\n",
      "   Reading cross sections          = 1.1608e+00 seconds\n",
      " Total time in simulation          = 1.9090e+00 seconds\n",
      "   Time in transport only          = 1.8644e+00 seconds\n",
      "   Time in inactive batches        = 1.7207e-01 seconds\n",
      "   Time in active batches          = 1.7369e+00 seconds\n",
      "   Time synchronizing fission bank = 7.8967e-03 seconds\n",
      "     Sampling source sites         = 7.3267e-03 seconds\n",
      "     SEND/RECV source sites        = 5.2304e-04 seconds\n",
      "   Time accumulating tallies       = 1.8471e-02 seconds\n",
      "   Time writing statepoints        = 5.1641e-03 seconds\n",
      " Total time for finalization       = 2.8050e-04 seconds\n",
      " Total time elapsed                = 3.0983e+00 seconds\n",
      " Calculation Rate (inactive)       = 58117 particles/second\n",
      " Calculation Rate (active)         = 51816.8 particles/second\n",
      "\n",
      " ============================>     RESULTS     <============================\n",
      "\n",
      " k-effective (Collision)     = 1.39771 +/- 0.00364\n",
      " k-effective (Track-length)  = 1.39359 +/- 0.00509\n",
      " k-effective (Absorption)    = 1.40262 +/- 0.00299\n",
      " Combined k-effective        = 1.40054 +/- 0.00258\n",
      " Leakage Fraction            = 0.00000 +/- 0.00000\n",
      "\n"
     ]
    }
   ],
   "source": [
    "openmc.run()"
   ]
  },
  {
   "cell_type": "code",
   "execution_count": 132,
   "id": "7893c61b",
   "metadata": {},
   "outputs": [
    {
     "name": "stdout",
     "output_type": "stream",
     "text": [
      " ============================>     TALLY 1     <============================\n",
      "\n",
      " Cell 15\n",
      "   U235\n",
      "     Total Reaction Rate                  0.729668 +/- 0.00250505\n",
      "     Fission Rate                         0.546507 +/- 0.00205907\n",
      "     Absorption Rate                      0.657665 +/- 0.00242641\n",
      "     (n,gamma)                            0.111158 +/- 0.000381612\n"
     ]
    }
   ],
   "source": [
    "!cat tallies.out"
   ]
  },
  {
   "cell_type": "code",
   "execution_count": 135,
   "id": "7e637fce",
   "metadata": {},
   "outputs": [],
   "source": [
    "plot = openmc.Plot()\n",
    "plot.filename = 'pinplot'\n",
    "plot.width = (pitch, pitch)\n",
    "plot.pixels = (200, 200)\n",
    "plot.color_by = 'material'\n",
    "plot.colors = {uo2: 'yellow', water: 'blue'}"
   ]
  },
  {
   "cell_type": "code",
   "execution_count": 136,
   "id": "c87f1c47",
   "metadata": {},
   "outputs": [
    {
     "name": "stdout",
     "output_type": "stream",
     "text": [
      "<?xml version='1.0' encoding='UTF-8'?>\n",
      "<plots>\n",
      "  <plot basis=\"xy\" color_by=\"material\" filename=\"pinplot\" id=\"12\" type=\"slice\">\n",
      "    <pixels>200 200</pixels>\n",
      "    <origin>0.0 0.0 0.0</origin>\n",
      "    <width>1.26 1.26</width>\n",
      "    <color id=\"1\" rgb=\"255 255 0\"/>\n",
      "    <color id=\"16\" rgb=\"0 0 255\"/>\n",
      "  </plot>\n",
      "</plots>\n"
     ]
    }
   ],
   "source": [
    "plots = openmc.Plots([plot])\n",
    "plots.export_to_xml()\n",
    "!cat plots.xml"
   ]
  },
  {
   "cell_type": "code",
   "execution_count": 137,
   "id": "5db563bd",
   "metadata": {},
   "outputs": [
    {
     "name": "stdout",
     "output_type": "stream",
     "text": [
      "                                %%%%%%%%%%%%%%%\n",
      "                           %%%%%%%%%%%%%%%%%%%%%%%%\n",
      "                        %%%%%%%%%%%%%%%%%%%%%%%%%%%%%%\n",
      "                      %%%%%%%%%%%%%%%%%%%%%%%%%%%%%%%%%%\n",
      "                    %%%%%%%%%%%%%%%%%%%%%%%%%%%%%%%%%%%%%%\n",
      "                   %%%%%%%%%%%%%%%%%%%%%%%%%%%%%%%%%%%%%%%%\n",
      "                                    %%%%%%%%%%%%%%%%%%%%%%%%\n",
      "                                     %%%%%%%%%%%%%%%%%%%%%%%%\n",
      "                 ###############      %%%%%%%%%%%%%%%%%%%%%%%%\n",
      "                ##################     %%%%%%%%%%%%%%%%%%%%%%%\n",
      "                ###################     %%%%%%%%%%%%%%%%%%%%%%%\n",
      "                ####################     %%%%%%%%%%%%%%%%%%%%%%\n",
      "                #####################     %%%%%%%%%%%%%%%%%%%%%\n",
      "                ######################     %%%%%%%%%%%%%%%%%%%%\n",
      "                #######################     %%%%%%%%%%%%%%%%%%\n",
      "                 #######################     %%%%%%%%%%%%%%%%%\n",
      "                 ######################     %%%%%%%%%%%%%%%%%\n",
      "                  ####################     %%%%%%%%%%%%%%%%%\n",
      "                    #################     %%%%%%%%%%%%%%%%%\n",
      "                     ###############     %%%%%%%%%%%%%%%%\n",
      "                       ############     %%%%%%%%%%%%%%%\n",
      "                          ########     %%%%%%%%%%%%%%\n",
      "                                      %%%%%%%%%%%\n",
      "\n",
      "                 | The OpenMC Monte Carlo Code\n",
      "       Copyright | 2011-2025 MIT, UChicago Argonne LLC, and contributors\n",
      "         License | https://docs.openmc.org/en/latest/license.html\n",
      "         Version | 0.15.2\n",
      "     Commit Hash | e23760b0264c66fb7bb373aa0596801e5209d920\n",
      "       Date/Time | 2025-07-31 15:04:22\n",
      "  OpenMP Threads | 8\n",
      "\n",
      " Reading settings XML file...\n",
      " Reading materials XML file...\n",
      " Reading geometry XML file...\n",
      " Reading tallies XML file...\n",
      " Preparing distributed cell instances...\n",
      " Reading plot XML file...\n",
      "\n",
      " =======================>     PLOTTING SUMMARY     <========================\n",
      "\n",
      "Plot ID: 12\n",
      "Plot file: pinplot.png\n",
      "Universe depth: -1\n",
      "Plot Type: Slice\n",
      "Origin: 0 0 0\n",
      "Width: 1.26 1.26\n",
      "Coloring: Materials\n",
      "Basis: XY\n",
      "Pixels: 200 200\n",
      "\n",
      " Processing plot 12: pinplot.png...\n"
     ]
    }
   ],
   "source": [
    "openmc.plot_geometry()"
   ]
  },
  {
   "cell_type": "code",
   "execution_count": 138,
   "id": "fa9960a6",
   "metadata": {},
   "outputs": [
    {
     "data": {
      "image/png": "[encoded data removed]",
      "text/plain": [
       "<IPython.core.display.Image object>"
      ]
     },
     "execution_count": 138,
     "metadata": {},
     "output_type": "execute_result"
    }
   ],
   "source": [
    "from IPython.display import Image\n",
    "Image(\"pinplot.png\")"
   ]
  },
  {
   "cell_type": "code",
   "execution_count": 139,
   "id": "6fab855f",
   "metadata": {},
   "outputs": [
    {
     "data": {
      "image/png": "[encoded data removed]",
      "text/plain": [
       "<IPython.core.display.Image object>"
      ]
     },
     "execution_count": 139,
     "metadata": {},
     "output_type": "execute_result"
    }
   ],
   "source": [
    "plot.to_ipython_image()"
   ]
  }
 ],
 "metadata": {
  "kernelspec": {
   "display_name": "openmc-env",
   "language": "python",
   "name": "python3"
  },
  "language_info": {
   "codemirror_mode": {
    "name": "ipython",
    "version": 3
   },
   "file_extension": ".py",
   "mimetype": "text/x-python",
   "name": "python",
   "nbconvert_exporter": "python",
   "pygments_lexer": "ipython3",
   "version": "3.12.11"
  }
 },
 "nbformat": 4,
 "nbformat_minor": 5
}
